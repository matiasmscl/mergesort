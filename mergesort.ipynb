{
 "cells": [
  {
   "cell_type": "code",
   "execution_count": 1,
   "id": "102198f6-b50f-423e-9f23-becdf57014a0",
   "metadata": {},
   "outputs": [
    {
     "name": "stdout",
     "output_type": "stream",
     "text": [
      "[96, 193, 140, 46, 181, 569, 727, 930, 842, 739, 95, 934, 107, 852, 43, 323, 173, 417, 147, 364, 630, 485, 333, 660, 487, 479, 870, 455, 294, 249, 499, 734, 722, 638, 902, 391, 724, 442, 897, 457, 652, 433, 496, 228, 12, 552, 119, 466, 350, 64, 854, 202, 991, 387, 598, 302, 731, 143, 887, 169, 684, 777, 791, 76, 492, 8, 376, 359, 732, 329, 928, 5, 533, 757, 382, 571, 698, 287, 437, 527, 352, 495, 19, 649, 165, 503, 489, 132, 566, 705, 985, 773, 473, 307, 39, 338, 409, 984, 343, 212]\n",
      "100\n"
     ]
    }
   ],
   "source": [
    "import random\n",
    "n = random.sample(range(0, 1000), 100)\n",
    "print(n)\n",
    "print(len(n))"
   ]
  },
  {
   "cell_type": "code",
   "execution_count": 2,
   "id": "ed206a7f",
   "metadata": {},
   "outputs": [
    {
     "name": "stdout",
     "output_type": "stream",
     "text": [
      "[96, 193, 140, 46, 181, 569, 727, 930, 842, 739, 95, 934, 107, 852, 43, 323, 173, 417, 147, 364, 630, 485, 333, 660, 487, 479, 870, 455, 294, 249, 499, 734, 722, 638, 902, 391, 724, 442, 897, 457, 652, 433, 496, 228, 12, 552, 119, 466, 350, 64, 854, 202, 991, 387, 598, 302, 731, 143, 887, 169, 684, 777, 791, 76, 492, 8, 376, 359, 732, 329, 928, 5, 533, 757, 382, 571, 698, 287, 437, 527, 352, 495, 19, 649, 165, 503, 489, 132, 566, 705, 985, 773, 473, 307, 39, 338, 409, 984, 343, 212]\n",
      "212\n"
     ]
    }
   ],
   "source": [
    "print(n)\n",
    "print(n[-1])"
   ]
  },
  {
   "cell_type": "code",
   "execution_count": 3,
   "id": "39323b70-55a5-4f5f-a1e5-3f660ed3a206",
   "metadata": {},
   "outputs": [],
   "source": [
    "def merge(left, right):\n",
    "    Result=[]\n",
    "    while len(left) > 0 and len(right) > 0:\n",
    "        if left[0]<= right[0]:\n",
    "            Result=Result+[left[0]]\n",
    "            left = left[1:]\n",
    "        else:\n",
    "            Result=Result+[right[0]]\n",
    "            right = right[1:]\n",
    "    if len(left) > 0:\n",
    "        Result=Result+left\n",
    "    if len(right) > 0:\n",
    "        Result=Result+right\n",
    "    return Result"
   ]
  },
  {
   "cell_type": "code",
   "execution_count": 4,
   "id": "94e8a4a7",
   "metadata": {},
   "outputs": [
    {
     "name": "stdout",
     "output_type": "stream",
     "text": [
      "[96, 193, 140, 46, 181, 569, 727, 734, 722, 638, 902, 391, 724, 442, 897, 457, 652, 433, 496, 228, 12, 552, 119, 466, 350, 64, 854, 202, 930, 842, 739, 95, 934, 107, 852, 43, 323, 173, 417, 147, 364, 630, 485, 333, 660, 487, 479, 870, 455, 294, 249, 499, 991, 387, 598, 302, 731, 143, 887, 169, 684, 777, 791, 76, 492, 8, 376, 359, 732, 329, 928, 5, 533, 757, 382, 571, 698, 287, 437, 527, 352, 495, 19, 649, 165, 503, 489, 132, 566, 705, 985, 773, 473, 307, 39, 338, 409, 984, 343, 212]\n",
      "100\n"
     ]
    }
   ],
   "source": [
    "print(merge(n[0:31],n[31:]))\n",
    "print(len(merge(n[0:31],n[31:])))"
   ]
  },
  {
   "cell_type": "code",
   "execution_count": 5,
   "id": "e497976d",
   "metadata": {},
   "outputs": [],
   "source": [
    "def mergesort(m):\n",
    "    left=[]\n",
    "    right=[]\n",
    "    result=[]\n",
    "    if len(m) <= 1:\n",
    "        return m\n",
    "    else:\n",
    "        middle = len(m) // 2\n",
    "        for x in range(0,middle):\n",
    "            left=left+[m[x]]\n",
    "        for x in range(middle,len(m)):\n",
    "            right=right+[m[x]]\n",
    "        left = mergesort(left)\n",
    "        right = mergesort(right)\n",
    "    if left[-1] <= right[0]:\n",
    "        left=left+right\n",
    "        return left\n",
    "    return merge(left, right)"
   ]
  },
  {
   "cell_type": "code",
   "execution_count": 6,
   "id": "3a060013-42c3-4e19-9c6d-fe56ba153ab0",
   "metadata": {},
   "outputs": [
    {
     "name": "stdout",
     "output_type": "stream",
     "text": [
      "[5, 8, 12, 19, 39, 43, 46, 64, 76, 95, 96, 107, 119, 132, 140, 143, 147, 165, 169, 173, 181, 193, 202, 212, 228, 249, 287, 294, 302, 307, 323, 329, 333, 338, 343, 350, 352, 359, 364, 376, 382, 387, 391, 409, 417, 433, 437, 442, 455, 457, 466, 473, 479, 485, 487, 489, 492, 495, 496, 499, 503, 527, 533, 552, 566, 569, 571, 598, 630, 638, 649, 652, 660, 684, 698, 705, 722, 724, 727, 731, 732, 734, 739, 757, 773, 777, 791, 842, 852, 854, 870, 887, 897, 902, 928, 930, 934, 984, 985, 991]\n",
      "100\n"
     ]
    }
   ],
   "source": [
    "n2=mergesort(n)\n",
    "print(n2)\n",
    "print(len(n2))"
   ]
  },
  {
   "cell_type": "code",
   "execution_count": null,
   "id": "e3166aa7-770f-439c-9e44-c33d6577ed89",
   "metadata": {},
   "outputs": [],
   "source": []
  }
 ],
 "metadata": {
  "kernelspec": {
   "display_name": "Python 3 (ipykernel)",
   "language": "python",
   "name": "python3"
  },
  "language_info": {
   "codemirror_mode": {
    "name": "ipython",
    "version": 3
   },
   "file_extension": ".py",
   "mimetype": "text/x-python",
   "name": "python",
   "nbconvert_exporter": "python",
   "pygments_lexer": "ipython3",
   "version": "3.9.7"
  }
 },
 "nbformat": 4,
 "nbformat_minor": 5
}
