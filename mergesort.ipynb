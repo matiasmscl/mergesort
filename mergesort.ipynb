{
 "cells": [
  {
   "cell_type": "code",
   "execution_count": 1,
   "id": "102198f6-b50f-423e-9f23-becdf57014a0",
   "metadata": {},
   "outputs": [
    {
     "name": "stdout",
     "output_type": "stream",
     "text": [
      "[956, 763, 289, 554, 808, 570, 517, 600, 658, 278, 863, 20, 131, 705, 479, 940, 5, 408, 709, 97, 923, 183, 292, 685, 837, 290, 171, 393, 687, 437, 365, 920, 651, 313, 528, 686, 953, 974, 729, 671, 323, 0, 98, 667, 253, 139, 360, 132, 681, 914, 922, 384, 571, 794, 635, 212, 987, 462, 901, 742, 827, 650, 535, 272, 649, 941, 495, 669, 607, 845, 409, 805, 309, 787, 305, 694, 944, 337, 413, 926, 330, 768, 396, 68, 501, 298, 676, 359, 175, 439, 890, 133, 382, 156, 754, 505, 193, 841, 960, 933]\n",
      "100\n"
     ]
    }
   ],
   "source": [
    "import random\n",
    "n = random.sample(range(0, 1000), 100)\n",
    "print(n)\n",
    "print(len(n))"
   ]
  },
  {
   "cell_type": "code",
   "execution_count": 2,
   "id": "ed206a7f",
   "metadata": {},
   "outputs": [
    {
     "name": "stdout",
     "output_type": "stream",
     "text": [
      "[956, 763, 289, 554, 808, 570, 517, 600, 658, 278, 863, 20, 131, 705, 479, 940, 5, 408, 709, 97, 923, 183, 292, 685, 837, 290, 171, 393, 687, 437, 365, 920, 651, 313, 528, 686, 953, 974, 729, 671, 323, 0, 98, 667, 253, 139, 360, 132, 681, 914, 922, 384, 571, 794, 635, 212, 987, 462, 901, 742, 827, 650, 535, 272, 649, 941, 495, 669, 607, 845, 409, 805, 309, 787, 305, 694, 944, 337, 413, 926, 330, 768, 396, 68, 501, 298, 676, 359, 175, 439, 890, 133, 382, 156, 754, 505, 193, 841, 960, 933]\n",
      "933\n"
     ]
    }
   ],
   "source": [
    "print(n)\n",
    "print(n[-1])"
   ]
  },
  {
   "cell_type": "code",
   "execution_count": 3,
   "id": "39323b70-55a5-4f5f-a1e5-3f660ed3a206",
   "metadata": {},
   "outputs": [],
   "source": [
    "def merge(left, right):\n",
    "    Result=[]\n",
    "    while len(left) > 0 and len(right) > 0:\n",
    "        if left[0]<= right[0]:\n",
    "            Result=Result+[left[0]]\n",
    "            left = left[1:]\n",
    "        else:\n",
    "            Result=Result+[right[0]]\n",
    "            right = right[1:]\n",
    "    if len(left) > 0:\n",
    "        Result=Result+left\n",
    "    if len(right) > 0:\n",
    "        Result=Result+right\n",
    "    return Result"
   ]
  },
  {
   "cell_type": "code",
   "execution_count": 4,
   "id": "94e8a4a7",
   "metadata": {},
   "outputs": [
    {
     "name": "stdout",
     "output_type": "stream",
     "text": [
      "[920, 651, 313, 528, 686, 953, 956, 763, 289, 554, 808, 570, 517, 600, 658, 278, 863, 20, 131, 705, 479, 940, 5, 408, 709, 97, 923, 183, 292, 685, 837, 290, 171, 393, 687, 437, 365, 974, 729, 671, 323, 0, 98, 667, 253, 139, 360, 132, 681, 914, 922, 384, 571, 794, 635, 212, 987, 462, 901, 742, 827, 650, 535, 272, 649, 941, 495, 669, 607, 845, 409, 805, 309, 787, 305, 694, 944, 337, 413, 926, 330, 768, 396, 68, 501, 298, 676, 359, 175, 439, 890, 133, 382, 156, 754, 505, 193, 841, 960, 933]\n",
      "100\n"
     ]
    }
   ],
   "source": [
    "print(merge(n[0:31],n[31:]))\n",
    "print(len(merge(n[0:31],n[31:])))"
   ]
  },
  {
   "cell_type": "code",
   "execution_count": 5,
   "id": "e497976d",
   "metadata": {},
   "outputs": [],
   "source": [
    "def mergesort(m):\n",
    "    left=[]\n",
    "    right=[]\n",
    "    if len(m) <= 1:\n",
    "        return m\n",
    "    else:\n",
    "        middle = len(m) // 2\n",
    "        for x in range(0,middle):\n",
    "            left=left+[m[x]]\n",
    "        for x in range(middle,len(m)):\n",
    "            right=right+[m[x]]\n",
    "        left = mergesort(left)\n",
    "        right = mergesort(right)\n",
    "    if left[-1] <= right[0]:\n",
    "        return left+right\n",
    "    return merge(left, right)"
   ]
  },
  {
   "cell_type": "code",
   "execution_count": 6,
   "id": "3a060013-42c3-4e19-9c6d-fe56ba153ab0",
   "metadata": {},
   "outputs": [
    {
     "name": "stdout",
     "output_type": "stream",
     "text": [
      "[0, 5, 20, 68, 97, 98, 131, 132, 133, 139, 156, 171, 175, 183, 193, 212, 253, 272, 278, 289, 290, 292, 298, 305, 309, 313, 323, 330, 337, 359, 360, 365, 382, 384, 393, 396, 408, 409, 413, 437, 439, 462, 479, 495, 501, 505, 517, 528, 535, 554, 570, 571, 600, 607, 635, 649, 650, 651, 658, 667, 669, 671, 676, 681, 685, 686, 687, 694, 705, 709, 729, 742, 754, 763, 768, 787, 794, 805, 808, 827, 837, 841, 845, 863, 890, 901, 914, 920, 922, 923, 926, 933, 940, 941, 944, 953, 956, 960, 974, 987]\n",
      "100\n"
     ]
    }
   ],
   "source": [
    "n2=mergesort(n)\n",
    "print(n2)\n",
    "print(len(n2))"
   ]
  },
  {
   "cell_type": "code",
   "execution_count": null,
   "id": "e3166aa7-770f-439c-9e44-c33d6577ed89",
   "metadata": {},
   "outputs": [],
   "source": []
  }
 ],
 "metadata": {
  "kernelspec": {
   "display_name": "Python 3 (ipykernel)",
   "language": "python",
   "name": "python3"
  },
  "language_info": {
   "codemirror_mode": {
    "name": "ipython",
    "version": 3
   },
   "file_extension": ".py",
   "mimetype": "text/x-python",
   "name": "python",
   "nbconvert_exporter": "python",
   "pygments_lexer": "ipython3",
   "version": "3.9.7"
  }
 },
 "nbformat": 4,
 "nbformat_minor": 5
}
