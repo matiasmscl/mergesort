{
 "cells": [
  {
   "cell_type": "code",
   "execution_count": 1,
   "id": "102198f6-b50f-423e-9f23-becdf57014a0",
   "metadata": {},
   "outputs": [
    {
     "name": "stdout",
     "output_type": "stream",
     "text": [
      "[675, 567, 275, 916, 502, 715, 572, 363, 325, 841, 12, 464, 533, 995, 853, 417, 795, 668, 996, 643, 477, 176, 526, 168, 251, 153, 947, 462, 773, 889, 679, 412, 37, 313, 184, 257, 212, 489, 954, 354, 534, 450, 915, 7, 911, 536, 485, 782, 115, 471, 529, 458, 289, 695, 925, 316, 676, 754, 483, 636, 133, 108, 104, 801, 6, 81, 800, 385, 17, 629, 366, 427, 507, 724, 665, 691, 896, 789, 556, 223, 177, 33, 146, 727, 783, 58, 353, 68, 623, 463, 905, 894, 741, 530, 845, 765, 286, 100, 855, 928]\n",
      "100\n"
     ]
    }
   ],
   "source": [
    "import random\n",
    "n = random.sample(range(0, 1000), 100)\n",
    "print(n)\n",
    "print(len(n))"
   ]
  },
  {
   "cell_type": "code",
   "execution_count": 2,
   "id": "39323b70-55a5-4f5f-a1e5-3f660ed3a206",
   "metadata": {},
   "outputs": [],
   "source": [
    "def merge(left, right):\n",
    "    Result=[]\n",
    "    while len(left) > 0 and len(right) > 0:\n",
    "        if left[0]<= right[0]:\n",
    "            Result=Result+[left[0]]\n",
    "            left = left[1:]\n",
    "        else:\n",
    "            Result=Result+[right[0]]\n",
    "            right = right[1:]\n",
    "    if len(left) > 0:\n",
    "        Result=Result+left\n",
    "    if len(right) > 0:\n",
    "        Result=Result+right\n",
    "    return Result"
   ]
  },
  {
   "cell_type": "code",
   "execution_count": 3,
   "id": "94e8a4a7",
   "metadata": {},
   "outputs": [
    {
     "name": "stdout",
     "output_type": "stream",
     "text": [
      "[412, 37, 313, 184, 257, 212, 489, 675, 567, 275, 916, 502, 715, 572, 363, 325, 841, 12, 464, 533, 954, 354, 534, 450, 915, 7, 911, 536, 485, 782, 115, 471, 529, 458, 289, 695, 925, 316, 676, 754, 483, 636, 133, 108, 104, 801, 6, 81, 800, 385, 17, 629, 366, 427, 507, 724, 665, 691, 896, 789, 556, 223, 177, 33, 146, 727, 783, 58, 353, 68, 623, 463, 905, 894, 741, 530, 845, 765, 286, 100, 855, 928, 995, 853, 417, 795, 668, 996, 643, 477, 176, 526, 168, 251, 153, 947, 462, 773, 889, 679]\n",
      "100\n"
     ]
    }
   ],
   "source": [
    "print(merge(n[0:31],n[31:]))\n",
    "print(len(merge(n[0:31],n[31:])))"
   ]
  },
  {
   "cell_type": "code",
   "execution_count": 4,
   "id": "e497976d",
   "metadata": {},
   "outputs": [],
   "source": [
    "def mergesort(m):\n",
    "    left=[]\n",
    "    right=[]\n",
    "    if len(m) <= 1:\n",
    "        return m\n",
    "    else:\n",
    "        middle = len(m) // 2\n",
    "        for x in range(0,middle):\n",
    "            left=left+[m[x]]\n",
    "        for x in range(middle,len(m)):\n",
    "            right=right+[m[x]]\n",
    "        left = mergesort(left)\n",
    "        right = mergesort(right)\n",
    "    if left[-1] <= right[0]:\n",
    "        return left+right\n",
    "    return merge(left, right)"
   ]
  },
  {
   "cell_type": "code",
   "execution_count": 5,
   "id": "3a060013-42c3-4e19-9c6d-fe56ba153ab0",
   "metadata": {},
   "outputs": [
    {
     "name": "stdout",
     "output_type": "stream",
     "text": [
      "[6, 7, 12, 17, 33, 37, 58, 68, 81, 100, 104, 108, 115, 133, 146, 153, 168, 176, 177, 184, 212, 223, 251, 257, 275, 286, 289, 313, 316, 325, 353, 354, 363, 366, 385, 412, 417, 427, 450, 458, 462, 463, 464, 471, 477, 483, 485, 489, 502, 507, 526, 529, 530, 533, 534, 536, 556, 567, 572, 623, 629, 636, 643, 665, 668, 675, 676, 679, 691, 695, 715, 724, 727, 741, 754, 765, 773, 782, 783, 789, 795, 800, 801, 841, 845, 853, 855, 889, 894, 896, 905, 911, 915, 916, 925, 928, 947, 954, 995, 996]\n",
      "100\n"
     ]
    }
   ],
   "source": [
    "n2=mergesort(n)\n",
    "print(n2)\n",
    "print(len(n2))"
   ]
  },
  {
   "cell_type": "code",
   "execution_count": null,
   "id": "e3166aa7-770f-439c-9e44-c33d6577ed89",
   "metadata": {},
   "outputs": [],
   "source": []
  }
 ],
 "metadata": {
  "kernelspec": {
   "display_name": "Python 3 (ipykernel)",
   "language": "python",
   "name": "python3"
  },
  "language_info": {
   "codemirror_mode": {
    "name": "ipython",
    "version": 3
   },
   "file_extension": ".py",
   "mimetype": "text/x-python",
   "name": "python",
   "nbconvert_exporter": "python",
   "pygments_lexer": "ipython3",
   "version": "3.9.7"
  }
 },
 "nbformat": 4,
 "nbformat_minor": 5
}
